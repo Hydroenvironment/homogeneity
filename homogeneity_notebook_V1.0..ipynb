{
  "cells": [
    {
      "cell_type": "markdown",
      "metadata": {
        "id": "view-in-github",
        "colab_type": "text"
      },
      "source": [
        "<a href=\"https://colab.research.google.com/github/Hydroenvironment/homogeneity/blob/main/homogeneity_notebook_V1.0..ipynb\" target=\"_parent\"><img src=\"https://colab.research.google.com/assets/colab-badge.svg\" alt=\"Open In Colab\"/></a>"
      ]
    },
    {
      "cell_type": "markdown",
      "source": [
        "# **HOMOGENEITY ASSESSMENT AND CHANGE-POINT DETECTION IN HYDROMETEOROLOGICAL TIME SERIES**\n",
        "\n",
        "##### Author: Julio Montenegro-Gambini, M.Sc.\n",
        "##### PhD Researcher - Technische Universiteit Delft (TU Delft), Netherlands.\n",
        "##### Current version: 1.0\n",
        "##### © Copyright 2025 Julio Montenegro-Gambini.\n",
        "\n",
        "---\n",
        "\n",
        "\n",
        "\n",
        "#####**LICENSING:**\n",
        "##### 🛡️ Licence: GNU General Public License v3.0 (GPL-3.0) (Python cells, Bash, executable scripts) https://www.gnu.org/licenses/gpl-3.0.en.html\n",
        "##### 🛡️ Licence: Creative Commons CC‑BY‑SA‑4.0 (text, examples, explanatory comments) https://creativecommons.org/licenses/by-sa/4.0/legalcode.txt\n",
        "##### ✅ Permissions:\n",
        "#####- Use, copying and modification are permitted.\n",
        "#####- It may be used for educational, professional and commercial purposes.\n",
        "##### ❌ Restrictions:\n",
        "#####- The original authorship must be retained.**\n",
        "#####- Comments, credits, or author mentions may not be removed, modified, or hidden.\n",
        "######- Any redistribution must include these same licenses (GPL-3.0) (CC‑BY‑SA‑4.0).\n",
        "#####- Removing or modifying the author's credits in the code or documentation.\n",
        "##### ℹ️ More information: See license files in the github repository.\n",
        "\n",
        "---\n",
        "\n",
        "\n",
        "#####**CITATION:**\n",
        "#####📝If you use, adapt or reproduce any part of this notebook in a publication, thesis, report, presentation or derivative notebook, please **cite it as follows** (**APA 7th Edition**):\n",
        "##### \"Montenegro, J. (2025). *\"Multi‑Scale Homogeneity assessment and change-point detection in hydrometeorological time series\"*\n",
        "\n",
        "##### GitHub repository: https://github.com/Hydroenvironment/homogeneity"
      ],
      "metadata": {
        "id": "YcdXA6NGB6rG"
      },
      "id": "YcdXA6NGB6rG"
    },
    {
      "cell_type": "markdown",
      "source": [
        "#Installing required libraries"
      ],
      "metadata": {
        "id": "gerY6V99EbNk"
      },
      "id": "gerY6V99EbNk"
    },
    {
      "cell_type": "code",
      "source": [
        "# --- Install Required Libraries ---\n",
        "!pip install --quiet numpy pandas matplotlib seaborn xarray openpyxl\n",
        "!pip install --quiet scipy"
      ],
      "metadata": {
        "id": "YrOEkljyprLi"
      },
      "id": "YrOEkljyprLi",
      "execution_count": null,
      "outputs": []
    },
    {
      "cell_type": "markdown",
      "source": [],
      "metadata": {
        "id": "WP0sGJtCEiO-"
      },
      "id": "WP0sGJtCEiO-"
    },
    {
      "cell_type": "markdown",
      "source": [
        "#Importing libraries"
      ],
      "metadata": {
        "id": "UtJk09jqEjFW"
      },
      "id": "UtJk09jqEjFW"
    },
    {
      "cell_type": "code",
      "source": [
        "# --- Imports ---\n",
        "import numpy as np\n",
        "import pandas as pd\n",
        "import matplotlib.pyplot as plt\n",
        "import seaborn as sns\n",
        "from scipy import stats"
      ],
      "metadata": {
        "id": "BgQ6Cdf3psuH"
      },
      "id": "BgQ6Cdf3psuH",
      "execution_count": null,
      "outputs": []
    },
    {
      "cell_type": "markdown",
      "source": [
        "#Setting up space"
      ],
      "metadata": {
        "id": "mtKrpISUEnlh"
      },
      "id": "mtKrpISUEnlh"
    },
    {
      "cell_type": "code",
      "source": [
        "# --- Setup ---\n",
        "sns.set(style=\"whitegrid\")\n",
        "plt.rcParams['figure.figsize'] = (10, 4)"
      ],
      "metadata": {
        "id": "kVkHAzjdpuOi"
      },
      "id": "kVkHAzjdpuOi",
      "execution_count": null,
      "outputs": []
    },
    {
      "cell_type": "markdown",
      "source": [
        "# Complete Critical Values Tables (95% and 99%) for all supported tests"
      ],
      "metadata": {
        "id": "XSsmX9wbEq4e"
      },
      "id": "XSsmX9wbEq4e"
    },
    {
      "cell_type": "code",
      "source": [
        "# --- Complete Critical Values Tables (95% and 99%) for all supported tests ---\n",
        "\n",
        "critical_values = {\n",
        "    \"pettitt\": {\n",
        "        10: {0.95: 30, 0.99: 40},\n",
        "        20: {0.95: 57, 0.99: 71},\n",
        "        30: {0.95: 107, 0.99: 133},\n",
        "        40: {0.95: 167, 0.99: 208},\n",
        "        50: {0.95: 235, 0.99: 293},\n",
        "        70: {0.95: 393, 0.99: 488},\n",
        "        100: {0.95: 677, 0.99: 841}\n",
        "    },\n",
        "    \"snht\": {\n",
        "        10: {0.95: 6.0, 0.99: 7.9},\n",
        "        20: {0.95: 6.95, 0.99: 9.56},\n",
        "        30: {0.95: 7.65, 0.99: 10.45},\n",
        "        40: {0.95: 8.10, 0.99: 11.01},\n",
        "        50: {0.95: 8.45, 0.99: 11.38},\n",
        "        70: {0.95: 8.80, 0.99: 11.89},\n",
        "        100: {0.95: 9.15, 0.99: 12.32}\n",
        "    },\n",
        "    \"cumulative_dev_qsqrt\": {\n",
        "        10: {0.95: 1.14, 0.99: 1.29},\n",
        "        20: {0.95: 1.22, 0.99: 1.42},\n",
        "        30: {0.95: 1.24, 0.99: 1.46},\n",
        "        40: {0.95: 1.26, 0.99: 1.50},\n",
        "        50: {0.95: 1.27, 0.99: 1.52},\n",
        "        100: {0.95: 1.29, 0.99: 1.55}\n",
        "    },\n",
        "    \"buishand_rsqrt\": {\n",
        "        10: {0.95: 1.28, 0.99: 1.38},\n",
        "        20: {0.95: 1.43, 0.99: 1.60},\n",
        "        30: {0.95: 1.50, 0.99: 1.70},\n",
        "        40: {0.95: 1.53, 0.99: 1.74},\n",
        "        50: {0.95: 1.55, 0.99: 1.78},\n",
        "        100: {0.95: 1.62, 0.99: 1.86}\n",
        "    },\n",
        "    \"buishand_U\": {\n",
        "        10: {0.95: 0.395, 0.99: 0.514},\n",
        "        20: {0.95: 0.447, 0.99: 0.662},\n",
        "        30: {0.95: 0.444, 0.99: 0.691},\n",
        "        40: {0.95: 0.448, 0.99: 0.693},\n",
        "        50: {0.95: 0.452, 0.99: 0.718},\n",
        "        100: {0.95: 0.457, 0.99: 0.712}\n",
        "    },\n",
        "    \"von_neumann\": {\n",
        "        10: {0.95: 1.1, 0.99: 0.9},\n",
        "        20: {0.95: 1.30, 0.99: 1.04},\n",
        "        30: {0.95: 1.42, 0.99: 1.20},\n",
        "        40: {0.95: 1.49, 0.99: 1.29},\n",
        "        50: {0.95: 1.54, 0.99: 1.36},\n",
        "        70: {0.95: 1.61, 0.99: 1.45},\n",
        "        100: {0.95: 1.67, 0.99: 1.54}\n",
        "    },\n",
        "    \"bayesian_a\": {\n",
        "        10: {0.95: 2.31, 0.99: 3.14},\n",
        "        20: {0.95: 2.44, 0.99: 3.50},\n",
        "        30: {0.95: 2.42, 0.99: 3.70},\n",
        "        40: {0.95: 2.44, 0.99: 3.66},\n",
        "        50: {0.95: 2.48, 0.99: 3.78},\n",
        "        100: {0.95: 2.48, 0.99: 3.82}\n",
        "    },\n",
        "    \"worsley_w\": {\n",
        "        15: {0.95: 3.36, 0.99: 4.32},\n",
        "        20: {0.95: 3.28, 0.99: 4.13},\n",
        "        25: {0.95: 3.23, 0.99: 3.94},\n",
        "        30: {0.95: 3.19, 0.99: 3.86},\n",
        "        40: {0.95: 3.17, 0.99: 3.84},\n",
        "        45: {0.95: 3.16, 0.99: 3.79},\n",
        "        50: {0.95: 3.16, 0.99: 3.79}\n",
        "    }\n",
        "}\n",
        "\n",
        "def get_nearest_n(n, test_name):\n",
        "    \"\"\"Return the closest available sample size for a given test.\"\"\"\n",
        "    available_n = list(critical_values.get(test_name, {}).keys())\n",
        "    return min(available_n, key=lambda x: abs(x - n)) if available_n else None\n",
        "\n",
        "def get_critical_value(test_name, n, alpha=0.95):\n",
        "    \"\"\"Lookup critical value for a specific test, sample size, and confidence level.\"\"\"\n",
        "    rounded_n = get_nearest_n(n, test_name)\n",
        "    if rounded_n is None:\n",
        "        return None\n",
        "    return critical_values[test_name].get(rounded_n, {}).get(alpha, None)"
      ],
      "metadata": {
        "id": "UgSY0zM-b1aY"
      },
      "id": "UgSY0zM-b1aY",
      "execution_count": null,
      "outputs": []
    },
    {
      "cell_type": "markdown",
      "source": [
        "# Getting critical values for a specific method"
      ],
      "metadata": {
        "id": "wuJamz8gE5NW"
      },
      "id": "wuJamz8gE5NW"
    },
    {
      "cell_type": "code",
      "source": [
        "get_critical_value(\"worsley_w\",50000000000, alpha=0.95)"
      ],
      "metadata": {
        "colab": {
          "base_uri": "https://localhost:8080/"
        },
        "id": "KLfnUCUVeu_t",
        "outputId": "fd8c6817-8475-4c49-f293-d226f253a25f"
      },
      "id": "KLfnUCUVeu_t",
      "execution_count": null,
      "outputs": [
        {
          "output_type": "execute_result",
          "data": {
            "text/plain": [
              "3.16"
            ]
          },
          "metadata": {},
          "execution_count": 152
        }
      ]
    },
    {
      "cell_type": "markdown",
      "source": [
        "# Loading Dataset (excel file)\n",
        "#Replace 'your_file.xlsx' and 'Sheet1' with your own file and sheet name"
      ],
      "metadata": {
        "id": "9r55G5BxE8oK"
      },
      "id": "9r55G5BxE8oK"
    },
    {
      "cell_type": "code",
      "source": [
        "# --- Load Dataset ---\n",
        "# 👉 Replace 'your_file.xlsx' and 'Sheet1' with your own file and sheet name\n",
        "file_path = 'synthetic_rainfall_1961_2009.xlsx'  # upload your Excel file in the left panel\n",
        "sheet_name = 'MonthlyRainfall'  # your sheet name\n",
        "\n",
        "df = pd.read_excel(file_path, sheet_name='MonthlyRainfall')\n",
        "df.set_index(df.columns[0], inplace=True)\n",
        "df.index = pd.to_datetime(df.index)\n",
        "df.head()"
      ],
      "metadata": {
        "id": "6F3OvIK1pyPI",
        "colab": {
          "base_uri": "https://localhost:8080/",
          "height": 237
        },
        "outputId": "9f282680-11f7-4b5a-d9bb-53c8b564392e"
      },
      "id": "6F3OvIK1pyPI",
      "execution_count": null,
      "outputs": [
        {
          "output_type": "execute_result",
          "data": {
            "text/plain": [
              "              Barkhan  Dalbandin     Jiwani      Kalat    Khuzdar       Zhob\n",
              "Unnamed: 0                                                                  \n",
              "1961-01-01  24.967142  28.303358   3.070432  17.539375  26.835693  29.965705\n",
              "1961-02-01  43.617357  36.439162  44.016604  36.567534  31.340443  40.335046\n",
              "1961-03-01  69.778156  64.016933  53.415359  85.010697  75.420710  69.706068\n",
              "1961-04-01  85.230299  65.223426  58.964107  68.241142  72.612505  68.094969\n",
              "1961-05-01  60.959736  68.091068  65.100212  64.533318  59.608499  66.541840"
            ],
            "text/html": [
              "\n",
              "  <div id=\"df-0c8eaae3-e3ec-43ae-b965-73d828238f94\" class=\"colab-df-container\">\n",
              "    <div>\n",
              "<style scoped>\n",
              "    .dataframe tbody tr th:only-of-type {\n",
              "        vertical-align: middle;\n",
              "    }\n",
              "\n",
              "    .dataframe tbody tr th {\n",
              "        vertical-align: top;\n",
              "    }\n",
              "\n",
              "    .dataframe thead th {\n",
              "        text-align: right;\n",
              "    }\n",
              "</style>\n",
              "<table border=\"1\" class=\"dataframe\">\n",
              "  <thead>\n",
              "    <tr style=\"text-align: right;\">\n",
              "      <th></th>\n",
              "      <th>Barkhan</th>\n",
              "      <th>Dalbandin</th>\n",
              "      <th>Jiwani</th>\n",
              "      <th>Kalat</th>\n",
              "      <th>Khuzdar</th>\n",
              "      <th>Zhob</th>\n",
              "    </tr>\n",
              "    <tr>\n",
              "      <th>Unnamed: 0</th>\n",
              "      <th></th>\n",
              "      <th></th>\n",
              "      <th></th>\n",
              "      <th></th>\n",
              "      <th></th>\n",
              "      <th></th>\n",
              "    </tr>\n",
              "  </thead>\n",
              "  <tbody>\n",
              "    <tr>\n",
              "      <th>1961-01-01</th>\n",
              "      <td>24.967142</td>\n",
              "      <td>28.303358</td>\n",
              "      <td>3.070432</td>\n",
              "      <td>17.539375</td>\n",
              "      <td>26.835693</td>\n",
              "      <td>29.965705</td>\n",
              "    </tr>\n",
              "    <tr>\n",
              "      <th>1961-02-01</th>\n",
              "      <td>43.617357</td>\n",
              "      <td>36.439162</td>\n",
              "      <td>44.016604</td>\n",
              "      <td>36.567534</td>\n",
              "      <td>31.340443</td>\n",
              "      <td>40.335046</td>\n",
              "    </tr>\n",
              "    <tr>\n",
              "      <th>1961-03-01</th>\n",
              "      <td>69.778156</td>\n",
              "      <td>64.016933</td>\n",
              "      <td>53.415359</td>\n",
              "      <td>85.010697</td>\n",
              "      <td>75.420710</td>\n",
              "      <td>69.706068</td>\n",
              "    </tr>\n",
              "    <tr>\n",
              "      <th>1961-04-01</th>\n",
              "      <td>85.230299</td>\n",
              "      <td>65.223426</td>\n",
              "      <td>58.964107</td>\n",
              "      <td>68.241142</td>\n",
              "      <td>72.612505</td>\n",
              "      <td>68.094969</td>\n",
              "    </tr>\n",
              "    <tr>\n",
              "      <th>1961-05-01</th>\n",
              "      <td>60.959736</td>\n",
              "      <td>68.091068</td>\n",
              "      <td>65.100212</td>\n",
              "      <td>64.533318</td>\n",
              "      <td>59.608499</td>\n",
              "      <td>66.541840</td>\n",
              "    </tr>\n",
              "  </tbody>\n",
              "</table>\n",
              "</div>\n",
              "    <div class=\"colab-df-buttons\">\n",
              "\n",
              "  <div class=\"colab-df-container\">\n",
              "    <button class=\"colab-df-convert\" onclick=\"convertToInteractive('df-0c8eaae3-e3ec-43ae-b965-73d828238f94')\"\n",
              "            title=\"Convert this dataframe to an interactive table.\"\n",
              "            style=\"display:none;\">\n",
              "\n",
              "  <svg xmlns=\"http://www.w3.org/2000/svg\" height=\"24px\" viewBox=\"0 -960 960 960\">\n",
              "    <path d=\"M120-120v-720h720v720H120Zm60-500h600v-160H180v160Zm220 220h160v-160H400v160Zm0 220h160v-160H400v160ZM180-400h160v-160H180v160Zm440 0h160v-160H620v160ZM180-180h160v-160H180v160Zm440 0h160v-160H620v160Z\"/>\n",
              "  </svg>\n",
              "    </button>\n",
              "\n",
              "  <style>\n",
              "    .colab-df-container {\n",
              "      display:flex;\n",
              "      gap: 12px;\n",
              "    }\n",
              "\n",
              "    .colab-df-convert {\n",
              "      background-color: #E8F0FE;\n",
              "      border: none;\n",
              "      border-radius: 50%;\n",
              "      cursor: pointer;\n",
              "      display: none;\n",
              "      fill: #1967D2;\n",
              "      height: 32px;\n",
              "      padding: 0 0 0 0;\n",
              "      width: 32px;\n",
              "    }\n",
              "\n",
              "    .colab-df-convert:hover {\n",
              "      background-color: #E2EBFA;\n",
              "      box-shadow: 0px 1px 2px rgba(60, 64, 67, 0.3), 0px 1px 3px 1px rgba(60, 64, 67, 0.15);\n",
              "      fill: #174EA6;\n",
              "    }\n",
              "\n",
              "    .colab-df-buttons div {\n",
              "      margin-bottom: 4px;\n",
              "    }\n",
              "\n",
              "    [theme=dark] .colab-df-convert {\n",
              "      background-color: #3B4455;\n",
              "      fill: #D2E3FC;\n",
              "    }\n",
              "\n",
              "    [theme=dark] .colab-df-convert:hover {\n",
              "      background-color: #434B5C;\n",
              "      box-shadow: 0px 1px 3px 1px rgba(0, 0, 0, 0.15);\n",
              "      filter: drop-shadow(0px 1px 2px rgba(0, 0, 0, 0.3));\n",
              "      fill: #FFFFFF;\n",
              "    }\n",
              "  </style>\n",
              "\n",
              "    <script>\n",
              "      const buttonEl =\n",
              "        document.querySelector('#df-0c8eaae3-e3ec-43ae-b965-73d828238f94 button.colab-df-convert');\n",
              "      buttonEl.style.display =\n",
              "        google.colab.kernel.accessAllowed ? 'block' : 'none';\n",
              "\n",
              "      async function convertToInteractive(key) {\n",
              "        const element = document.querySelector('#df-0c8eaae3-e3ec-43ae-b965-73d828238f94');\n",
              "        const dataTable =\n",
              "          await google.colab.kernel.invokeFunction('convertToInteractive',\n",
              "                                                    [key], {});\n",
              "        if (!dataTable) return;\n",
              "\n",
              "        const docLinkHtml = 'Like what you see? Visit the ' +\n",
              "          '<a target=\"_blank\" href=https://colab.research.google.com/notebooks/data_table.ipynb>data table notebook</a>'\n",
              "          + ' to learn more about interactive tables.';\n",
              "        element.innerHTML = '';\n",
              "        dataTable['output_type'] = 'display_data';\n",
              "        await google.colab.output.renderOutput(dataTable, element);\n",
              "        const docLink = document.createElement('div');\n",
              "        docLink.innerHTML = docLinkHtml;\n",
              "        element.appendChild(docLink);\n",
              "      }\n",
              "    </script>\n",
              "  </div>\n",
              "\n",
              "\n",
              "    <div id=\"df-8f7968b4-b123-447e-8b95-36d2689371e9\">\n",
              "      <button class=\"colab-df-quickchart\" onclick=\"quickchart('df-8f7968b4-b123-447e-8b95-36d2689371e9')\"\n",
              "                title=\"Suggest charts\"\n",
              "                style=\"display:none;\">\n",
              "\n",
              "<svg xmlns=\"http://www.w3.org/2000/svg\" height=\"24px\"viewBox=\"0 0 24 24\"\n",
              "     width=\"24px\">\n",
              "    <g>\n",
              "        <path d=\"M19 3H5c-1.1 0-2 .9-2 2v14c0 1.1.9 2 2 2h14c1.1 0 2-.9 2-2V5c0-1.1-.9-2-2-2zM9 17H7v-7h2v7zm4 0h-2V7h2v10zm4 0h-2v-4h2v4z\"/>\n",
              "    </g>\n",
              "</svg>\n",
              "      </button>\n",
              "\n",
              "<style>\n",
              "  .colab-df-quickchart {\n",
              "      --bg-color: #E8F0FE;\n",
              "      --fill-color: #1967D2;\n",
              "      --hover-bg-color: #E2EBFA;\n",
              "      --hover-fill-color: #174EA6;\n",
              "      --disabled-fill-color: #AAA;\n",
              "      --disabled-bg-color: #DDD;\n",
              "  }\n",
              "\n",
              "  [theme=dark] .colab-df-quickchart {\n",
              "      --bg-color: #3B4455;\n",
              "      --fill-color: #D2E3FC;\n",
              "      --hover-bg-color: #434B5C;\n",
              "      --hover-fill-color: #FFFFFF;\n",
              "      --disabled-bg-color: #3B4455;\n",
              "      --disabled-fill-color: #666;\n",
              "  }\n",
              "\n",
              "  .colab-df-quickchart {\n",
              "    background-color: var(--bg-color);\n",
              "    border: none;\n",
              "    border-radius: 50%;\n",
              "    cursor: pointer;\n",
              "    display: none;\n",
              "    fill: var(--fill-color);\n",
              "    height: 32px;\n",
              "    padding: 0;\n",
              "    width: 32px;\n",
              "  }\n",
              "\n",
              "  .colab-df-quickchart:hover {\n",
              "    background-color: var(--hover-bg-color);\n",
              "    box-shadow: 0 1px 2px rgba(60, 64, 67, 0.3), 0 1px 3px 1px rgba(60, 64, 67, 0.15);\n",
              "    fill: var(--button-hover-fill-color);\n",
              "  }\n",
              "\n",
              "  .colab-df-quickchart-complete:disabled,\n",
              "  .colab-df-quickchart-complete:disabled:hover {\n",
              "    background-color: var(--disabled-bg-color);\n",
              "    fill: var(--disabled-fill-color);\n",
              "    box-shadow: none;\n",
              "  }\n",
              "\n",
              "  .colab-df-spinner {\n",
              "    border: 2px solid var(--fill-color);\n",
              "    border-color: transparent;\n",
              "    border-bottom-color: var(--fill-color);\n",
              "    animation:\n",
              "      spin 1s steps(1) infinite;\n",
              "  }\n",
              "\n",
              "  @keyframes spin {\n",
              "    0% {\n",
              "      border-color: transparent;\n",
              "      border-bottom-color: var(--fill-color);\n",
              "      border-left-color: var(--fill-color);\n",
              "    }\n",
              "    20% {\n",
              "      border-color: transparent;\n",
              "      border-left-color: var(--fill-color);\n",
              "      border-top-color: var(--fill-color);\n",
              "    }\n",
              "    30% {\n",
              "      border-color: transparent;\n",
              "      border-left-color: var(--fill-color);\n",
              "      border-top-color: var(--fill-color);\n",
              "      border-right-color: var(--fill-color);\n",
              "    }\n",
              "    40% {\n",
              "      border-color: transparent;\n",
              "      border-right-color: var(--fill-color);\n",
              "      border-top-color: var(--fill-color);\n",
              "    }\n",
              "    60% {\n",
              "      border-color: transparent;\n",
              "      border-right-color: var(--fill-color);\n",
              "    }\n",
              "    80% {\n",
              "      border-color: transparent;\n",
              "      border-right-color: var(--fill-color);\n",
              "      border-bottom-color: var(--fill-color);\n",
              "    }\n",
              "    90% {\n",
              "      border-color: transparent;\n",
              "      border-bottom-color: var(--fill-color);\n",
              "    }\n",
              "  }\n",
              "</style>\n",
              "\n",
              "      <script>\n",
              "        async function quickchart(key) {\n",
              "          const quickchartButtonEl =\n",
              "            document.querySelector('#' + key + ' button');\n",
              "          quickchartButtonEl.disabled = true;  // To prevent multiple clicks.\n",
              "          quickchartButtonEl.classList.add('colab-df-spinner');\n",
              "          try {\n",
              "            const charts = await google.colab.kernel.invokeFunction(\n",
              "                'suggestCharts', [key], {});\n",
              "          } catch (error) {\n",
              "            console.error('Error during call to suggestCharts:', error);\n",
              "          }\n",
              "          quickchartButtonEl.classList.remove('colab-df-spinner');\n",
              "          quickchartButtonEl.classList.add('colab-df-quickchart-complete');\n",
              "        }\n",
              "        (() => {\n",
              "          let quickchartButtonEl =\n",
              "            document.querySelector('#df-8f7968b4-b123-447e-8b95-36d2689371e9 button');\n",
              "          quickchartButtonEl.style.display =\n",
              "            google.colab.kernel.accessAllowed ? 'block' : 'none';\n",
              "        })();\n",
              "      </script>\n",
              "    </div>\n",
              "\n",
              "    </div>\n",
              "  </div>\n"
            ],
            "application/vnd.google.colaboratory.intrinsic+json": {
              "type": "dataframe",
              "variable_name": "df",
              "summary": "{\n  \"name\": \"df\",\n  \"rows\": 588,\n  \"fields\": [\n    {\n      \"column\": \"Unnamed: 0\",\n      \"properties\": {\n        \"dtype\": \"date\",\n        \"min\": \"1961-01-01 00:00:00\",\n        \"max\": \"2009-12-01 00:00:00\",\n        \"num_unique_values\": 588,\n        \"samples\": [\n          \"2004-05-01 00:00:00\",\n          \"1984-09-01 00:00:00\",\n          \"2003-09-01 00:00:00\"\n        ],\n        \"semantic_type\": \"\",\n        \"description\": \"\"\n      }\n    },\n    {\n      \"column\": \"Barkhan\",\n      \"properties\": {\n        \"dtype\": \"number\",\n        \"std\": 33.815062570375055,\n        \"min\": 0.0,\n        \"max\": 118.7617083921589,\n        \"num_unique_values\": 464,\n        \"samples\": [\n          22.41962271566034,\n          18.8435171761176,\n          4.312801191162\n        ],\n        \"semantic_type\": \"\",\n        \"description\": \"\"\n      }\n    },\n    {\n      \"column\": \"Dalbandin\",\n      \"properties\": {\n        \"dtype\": \"number\",\n        \"std\": 28.652387220519373,\n        \"min\": 0.0,\n        \"max\": 91.42270358611864,\n        \"num_unique_values\": 371,\n        \"samples\": [\n          31.08182816737516,\n          50.40166119181139,\n          22.7996862631982\n        ],\n        \"semantic_type\": \"\",\n        \"description\": \"\"\n      }\n    },\n    {\n      \"column\": \"Jiwani\",\n      \"properties\": {\n        \"dtype\": \"number\",\n        \"std\": 27.988024197087537,\n        \"min\": 0.0,\n        \"max\": 95.58199285668252,\n        \"num_unique_values\": 377,\n        \"samples\": [\n          21.13270410537764,\n          69.64358517702516,\n          24.28816500330573\n        ],\n        \"semantic_type\": \"\",\n        \"description\": \"\"\n      }\n    },\n    {\n      \"column\": \"Kalat\",\n      \"properties\": {\n        \"dtype\": \"number\",\n        \"std\": 34.23030471882809,\n        \"min\": 0.0,\n        \"max\": 120.8953872169477,\n        \"num_unique_values\": 458,\n        \"samples\": [\n          90.33433701296326,\n          21.68654671966728,\n          88.21304032273012\n        ],\n        \"semantic_type\": \"\",\n        \"description\": \"\"\n      }\n    },\n    {\n      \"column\": \"Khuzdar\",\n      \"properties\": {\n        \"dtype\": \"number\",\n        \"std\": 28.001310484891935,\n        \"min\": 0.0,\n        \"max\": 109.2623770643633,\n        \"num_unique_values\": 378,\n        \"samples\": [\n          46.81426620113971,\n          71.94107630953357,\n          39.60877296851021\n        ],\n        \"semantic_type\": \"\",\n        \"description\": \"\"\n      }\n    },\n    {\n      \"column\": \"Zhob\",\n      \"properties\": {\n        \"dtype\": \"number\",\n        \"std\": 27.73101264322821,\n        \"min\": 0.0,\n        \"max\": 89.35154040060229,\n        \"num_unique_values\": 379,\n        \"samples\": [\n          55.13909774380227,\n          35.35462205089808,\n          61.95033519147439\n        ],\n        \"semantic_type\": \"\",\n        \"description\": \"\"\n      }\n    }\n  ]\n}"
            }
          },
          "metadata": {},
          "execution_count": 153
        }
      ]
    },
    {
      "cell_type": "markdown",
      "source": [
        "#Poloting original time series of a specific station"
      ],
      "metadata": {
        "id": "sF6wJEPKFKwi"
      },
      "id": "sF6wJEPKFKwi"
    },
    {
      "cell_type": "code",
      "source": [
        "# --- Helper: Plot Monthly Series ---\n",
        "def plot_station(station):\n",
        "    df[station].plot(title=f\"Rainfall Time Series - {station}\", color='navy')\n",
        "    plt.ylabel(\"Rainfall (mm)\")\n",
        "    plt.xlabel(\"Year\")\n",
        "    plt.show()\n",
        "plot_station(\"Barkhan\")"
      ],
      "metadata": {
        "id": "tgH6VSxrp4bb"
      },
      "id": "tgH6VSxrp4bb",
      "execution_count": null,
      "outputs": []
    },
    {
      "cell_type": "markdown",
      "source": [
        "# Applying Homogeneity Tests"
      ],
      "metadata": {
        "id": "OSH7YOiMF7RM"
      },
      "id": "OSH7YOiMF7RM"
    },
    {
      "cell_type": "markdown",
      "source": [
        "#1. Pettit test"
      ],
      "metadata": {
        "id": "-UVfnRCYGTNo"
      },
      "id": "-UVfnRCYGTNo"
    },
    {
      "cell_type": "code",
      "source": [
        "# 1. Pettitt's Test\n",
        "def pettitt_test(x):\n",
        "    n = len(x)\n",
        "    K = np.zeros(n)\n",
        "    for t in range(n):\n",
        "        r1 = x[:t+1]\n",
        "        r2 = x[t+1:]\n",
        "        if len(r1) == 0 or len(r2) == 0:\n",
        "            K[t] = 0\n",
        "        else:\n",
        "            u_stat = stats.mannwhitneyu(r1, r2, alternative='two-sided')[0]\n",
        "            K[t] = u_stat\n",
        "    K = np.abs(K)\n",
        "    Kt = np.argmax(K)\n",
        "    p_value = 2 * np.exp((-6 * K[Kt]**2) / (n**3 + n**2))\n",
        "    return Kt, p_value"
      ],
      "metadata": {
        "id": "me5g56UGp6PM"
      },
      "id": "me5g56UGp6PM",
      "execution_count": null,
      "outputs": []
    },
    {
      "cell_type": "markdown",
      "source": [
        "#2. SNHT (Standard Normal Homogeneity Test)"
      ],
      "metadata": {
        "id": "clQ9z3NeGW5Y"
      },
      "id": "clQ9z3NeGW5Y"
    },
    {
      "cell_type": "code",
      "source": [
        "# 2. SNHT (Standard Normal Homogeneity Test)\n",
        "def snht_test(x):\n",
        "    x = np.array(x)\n",
        "    n = len(x)\n",
        "    xbar = np.mean(x)\n",
        "    s = np.std(x)\n",
        "    T = np.array([((np.mean(x[:i+1]) - xbar)**2 + (np.mean(x[i+1:]) - xbar)**2) * (i+1)*(n-i-1)/n/s**2 for i in range(1, n-1)])\n",
        "    return np.max(T), np.argmax(T)+1"
      ],
      "metadata": {
        "id": "xIpFiMdip8ZP"
      },
      "id": "xIpFiMdip8ZP",
      "execution_count": null,
      "outputs": []
    },
    {
      "cell_type": "markdown",
      "source": [
        "#3. Buishand - Cumulative deviation test"
      ],
      "metadata": {
        "id": "CjOB1bNpGft4"
      },
      "id": "CjOB1bNpGft4"
    },
    {
      "cell_type": "code",
      "source": [
        "# 3. Cumulative Deviation Test\n",
        "def cumulative_dev_test(x):\n",
        "    xbar = np.mean(x)\n",
        "    s = np.std(x)\n",
        "    Sk = np.cumsum(x - xbar) / s\n",
        "    Q = np.max(np.abs(Sk))\n",
        "    return Q"
      ],
      "metadata": {
        "id": "XI0A82xhp-DU"
      },
      "id": "XI0A82xhp-DU",
      "execution_count": null,
      "outputs": []
    },
    {
      "cell_type": "markdown",
      "source": [
        "#4. Buishand - range test"
      ],
      "metadata": {
        "id": "khcfJsiJGlHP"
      },
      "id": "khcfJsiJGlHP"
    },
    {
      "cell_type": "code",
      "source": [
        "def buishand_range_test(x):\n",
        "    \"\"\"\n",
        "    Buishand Range Test (Q): Cumulative deviation test from mean.\n",
        "    Critical value at 95% for n=49 is ~1.27 (already included in the paper).\n",
        "    \"\"\"\n",
        "    n = len(x)\n",
        "    xbar = np.mean(x)\n",
        "    Sk = np.cumsum(x - xbar)\n",
        "    R = np.max(Sk) - np.min(Sk)\n",
        "    s = np.std(x, ddof=1)\n",
        "    Q = R / s\n",
        "    return Q"
      ],
      "metadata": {
        "id": "di6xf2qGRrao"
      },
      "id": "di6xf2qGRrao",
      "execution_count": null,
      "outputs": []
    },
    {
      "cell_type": "markdown",
      "source": [
        "#5. Buishand-U test"
      ],
      "metadata": {
        "id": "gLmTyBb0Gpot"
      },
      "id": "gLmTyBb0Gpot"
    },
    {
      "cell_type": "code",
      "source": [
        "def buishand_u_test(x):\n",
        "    \"\"\"\n",
        "    Buishand U Test (Standardized range of cumulative deviations)\n",
        "    U = (1/n) * sum(Sk^2) / s^2\n",
        "    \"\"\"\n",
        "    n = len(x)\n",
        "    xbar = np.mean(x)\n",
        "    Sk = np.cumsum(x - xbar)\n",
        "    s2 = np.var(x, ddof=1)\n",
        "    U = (1 / n) * np.sum(Sk**2) / s2\n",
        "    return U"
      ],
      "metadata": {
        "id": "1OlNTu51RydP"
      },
      "id": "1OlNTu51RydP",
      "execution_count": null,
      "outputs": []
    },
    {
      "cell_type": "markdown",
      "source": [
        "#6. Von Neumann test"
      ],
      "metadata": {
        "id": "sILZFLiyG-cc"
      },
      "id": "sILZFLiyG-cc"
    },
    {
      "cell_type": "code",
      "source": [
        "# 4. Von Neumann Test\n",
        "def von_neumann_test(x):\n",
        "    x = np.array(x)\n",
        "    diff = np.diff(x)\n",
        "    num = np.sum(diff**2)\n",
        "    denom = np.sum((x - np.mean(x))**2)\n",
        "    N = num / denom\n",
        "    return N"
      ],
      "metadata": {
        "id": "KqIKXk-1p_S4"
      },
      "id": "KqIKXk-1p_S4",
      "execution_count": null,
      "outputs": []
    },
    {
      "cell_type": "markdown",
      "source": [
        "#7. Bayesian Test"
      ],
      "metadata": {
        "id": "P1DMn-IiHB9k"
      },
      "id": "P1DMn-IiHB9k"
    },
    {
      "cell_type": "code",
      "source": [
        "# 5. Bayesian Test (simplified as rescaled deviation)\n",
        "def bayesian_test(x):\n",
        "    xbar = np.mean(x)\n",
        "    s = np.std(x)\n",
        "    Sk = np.cumsum(x - xbar) / s\n",
        "    A = np.max(np.abs(Sk))\n",
        "    return A"
      ],
      "metadata": {
        "id": "VJg4YCwqqBLO"
      },
      "id": "VJg4YCwqqBLO",
      "execution_count": null,
      "outputs": []
    },
    {
      "cell_type": "markdown",
      "source": [
        "#8. Buishand - Worsley's Likelihood Ratio"
      ],
      "metadata": {
        "id": "7G8ajT9ZHtvc"
      },
      "id": "7G8ajT9ZHtvc"
    },
    {
      "cell_type": "code",
      "source": [
        "# 6. Worsley's Likelihood Ratio (simplified proxy)\n",
        "def worsley_test(x):\n",
        "    x = np.array(x)\n",
        "    n = len(x)\n",
        "    S = np.cumsum(x - np.mean(x))\n",
        "    V = np.max(np.abs(S))\n",
        "    W = (n * V**2) / (np.var(x) * n**2)\n",
        "    return W"
      ],
      "metadata": {
        "id": "zpXtkNibqEOW"
      },
      "id": "zpXtkNibqEOW",
      "execution_count": null,
      "outputs": []
    },
    {
      "cell_type": "markdown",
      "source": [
        "#9. Student's t-Test (split time series in two parts)"
      ],
      "metadata": {
        "id": "e2gjziiEH3VD"
      },
      "id": "e2gjziiEH3VD"
    },
    {
      "cell_type": "code",
      "source": [
        "# 7. Student's t-Test (2 segments)\n",
        "def student_t_test(x):\n",
        "    mid = len(x) // 2\n",
        "    t_stat, p = stats.ttest_ind(x[:mid], x[mid:], equal_var=False)\n",
        "    return t_stat, p"
      ],
      "metadata": {
        "id": "HOcnoLDEqFwc"
      },
      "id": "HOcnoLDEqFwc",
      "execution_count": null,
      "outputs": []
    },
    {
      "cell_type": "markdown",
      "source": [
        "#Defining a function to apply all tests"
      ],
      "metadata": {
        "id": "tMHiR3_hINf3"
      },
      "id": "tMHiR3_hINf3"
    },
    {
      "cell_type": "code",
      "source": [
        "# --- Apply All Tests to a Series ---\n",
        "def apply_all_tests_verbose(series):\n",
        "    results = {}\n",
        "    x = series.dropna().values\n",
        "    if len(x) < 20:\n",
        "        return {\"error\": \"Too few data points\"}\n",
        "    results['pettitt'] = {'break_at_index': pettitt_test(x)[0], 'p_value': pettitt_test(x)[1]}\n",
        "    results['snht'] = {'max_T': snht_test(x)[0], 'break_at_index': snht_test(x)[1]}\n",
        "    results['cumulative_dev'] = {'Q_statistic': cumulative_dev_test(x)}\n",
        "    results['buishand_range'] = {'Q_statistic': buishand_range_test(x)}\n",
        "    results['buishand_U'] = {'U_statistic': buishand_u_test(x)}\n",
        "    results['von_neumann'] = {'N_ratio': von_neumann_test(x)}\n",
        "    results['bayesian'] = {'A_statistic': bayesian_test(x)}\n",
        "    results['worsley'] = {'W_statistic': worsley_test(x)}\n",
        "    student_t_stat, student_p = student_t_test(x)\n",
        "    results['student_t'] = {'t_statistic': student_t_stat, 'p_value': student_p}\n",
        "    return results"
      ],
      "metadata": {
        "id": "eDXQlRv_qHLC"
      },
      "id": "eDXQlRv_qHLC",
      "execution_count": null,
      "outputs": []
    },
    {
      "cell_type": "markdown",
      "source": [
        "#Applying all test to a specific time series"
      ],
      "metadata": {
        "id": "m_f1lA73IdgW"
      },
      "id": "m_f1lA73IdgW"
    },
    {
      "cell_type": "code",
      "source": [
        "# --- Example Usage ---\n",
        "station = 'Kalat'  # Choose a station like 'Barkhan', 'Zhob', etc.\n",
        "plot_station(station)\n",
        "results = apply_all_tests_verbose(df[station])\n",
        "for test, metrics in results.items():\n",
        "    print(f\"\\\\n{test.upper()}:\")\n",
        "    for k, v in metrics.items():\n",
        "        print(f\"  {k}: {v}\")"
      ],
      "metadata": {
        "id": "pFj_C_wRqJJ9"
      },
      "id": "pFj_C_wRqJJ9",
      "execution_count": null,
      "outputs": []
    },
    {
      "cell_type": "markdown",
      "source": [
        "#Generating a table with main results for all time series (all stations)"
      ],
      "metadata": {
        "id": "LyTruU5IIu-W"
      },
      "id": "LyTruU5IIu-W"
    },
    {
      "cell_type": "code",
      "source": [
        "# --- Generate Tabular Results for All Stations ---\n",
        "summary = []\n",
        "\n",
        "for station in df.columns:\n",
        "    x = df[station].dropna()\n",
        "    if len(x) < 20:\n",
        "        continue\n",
        "    result = apply_all_tests_verbose(x)\n",
        "    row = {\n",
        "        'Station': station,\n",
        "        'Pettitt_Break_Index': result['pettitt']['break_at_index'],\n",
        "        'Pettitt_p': result['pettitt']['p_value'],\n",
        "        'SNHT_T': result['snht']['max_T'],\n",
        "        'SNHT_Break_Index': result['snht']['break_at_index'],\n",
        "        'Cumulative_Q': result['cumulative_dev']['Q_statistic'],\n",
        "        'Buishand_R': result['buishand_range']['Q_statistic'],\n",
        "        'Buishand_U': result['buishand_U']['U_statistic'],\n",
        "        'Von_Neumann_Ratio': result['von_neumann']['N_ratio'],\n",
        "        'Bayesian_A': result['bayesian']['A_statistic'],\n",
        "        'Worsley_W': result['worsley']['W_statistic'],\n",
        "        't_stat': result['student_t']['t_statistic'],\n",
        "        't_p_value': result['student_t']['p_value']\n",
        "    }\n",
        "    summary.append(row)\n",
        "\n",
        "summary_df = pd.DataFrame(summary)\n",
        "summary_df.set_index('Station', inplace=True)\n",
        "display(summary_df)"
      ],
      "metadata": {
        "id": "WIBiECG8qKkL"
      },
      "id": "WIBiECG8qKkL",
      "execution_count": null,
      "outputs": []
    },
    {
      "cell_type": "markdown",
      "source": [
        "# Classification of results based on Wijngaard et al. (2003)\n",
        "Homogeneity was assessed at a 95% confidence level with null hypothesis (H0, data are homogeneous), and alternative hypothesis (Ha, data are non-homogeneous)"
      ],
      "metadata": {
        "id": "uGgVEyNaIz4a"
      },
      "id": "uGgVEyNaIz4a"
    },
    {
      "cell_type": "code",
      "source": [
        "# --- Classification Logic Based on Homogeneity Paper ---\n",
        "def classify_homogeneity(row, n, alpha):\n",
        "    rejections = 0\n",
        "    sqrt_n = np.sqrt(n)\n",
        "\n",
        "    # Correctly handle Pettitt's test p-value\n",
        "    if row['Pettitt_p'] < (1 - alpha):\n",
        "        rejections += 1\n",
        "\n",
        "    # Handle other tests, checking for None from get_critical_value\n",
        "    snht_crit = get_critical_value('snht', n, alpha)\n",
        "    if snht_crit is not None and row['SNHT_T'] > snht_crit:\n",
        "        rejections += 1\n",
        "\n",
        "    cum_dev_crit = get_critical_value('cumulative_dev_qsqrt', n, alpha)\n",
        "    if cum_dev_crit is not None and row['Cumulative_Q'] / sqrt_n > cum_dev_crit:\n",
        "        rejections += 1\n",
        "\n",
        "    buishand_r_crit = get_critical_value('buishand_rsqrt', n, alpha)\n",
        "    if buishand_r_crit is not None and row['Buishand_R'] / sqrt_n > buishand_r_crit:\n",
        "        rejections += 1\n",
        "\n",
        "    buishand_u_crit = get_critical_value('buishand_U', n, alpha)\n",
        "    if buishand_u_crit is not None and row['Buishand_U'] > buishand_u_crit:\n",
        "        rejections += 1\n",
        "\n",
        "    von_neumann_crit = get_critical_value('von_neumann', n, alpha)\n",
        "    if von_neumann_crit is not None and row['Von_Neumann_Ratio'] < von_neumann_crit:\n",
        "        rejections += 1\n",
        "\n",
        "    bayesian_crit = get_critical_value('bayesian_a', n, alpha)\n",
        "    if bayesian_crit is not None and row['Bayesian_A'] > bayesian_crit:\n",
        "        rejections += 1\n",
        "\n",
        "    worsley_crit = get_critical_value('worsley_w', n, alpha)\n",
        "    if worsley_crit is not None and row['Worsley_W'] > worsley_crit:\n",
        "        rejections += 1\n",
        "\n",
        "    if row['t_p_value'] < 1 - alpha:\n",
        "        rejections += 1\n",
        "\n",
        "    if rejections <= 3:\n",
        "        return 'A (Useful)'\n",
        "    elif rejections == 4:\n",
        "        return 'B (Doubtful)'\n",
        "    else:\n",
        "        return 'C (Suspect)'"
      ],
      "metadata": {
        "id": "rtFPOqtZ2iBZ"
      },
      "id": "rtFPOqtZ2iBZ",
      "execution_count": null,
      "outputs": []
    },
    {
      "cell_type": "markdown",
      "source": [
        "#Applying clasification to all time series (stations)"
      ],
      "metadata": {
        "id": "1kSaUlzrMpI7"
      },
      "id": "1kSaUlzrMpI7"
    },
    {
      "cell_type": "code",
      "source": [
        "# Apply classification\n",
        "summary_df['n_points'] = df.apply(lambda col: col.dropna().shape[0])\n",
        "summary_df['Homogeneity_Class'] = summary_df.apply(\n",
        "    lambda row: classify_homogeneity(row, int(row['n_points']), alpha=0.95), axis=1)\n",
        "display(summary_df)"
      ],
      "metadata": {
        "id": "pqAUXL5gg0Lv"
      },
      "id": "pqAUXL5gg0Lv",
      "execution_count": null,
      "outputs": []
    },
    {
      "cell_type": "markdown",
      "source": [
        "#Visual change-point detection (breakpoint)"
      ],
      "metadata": {
        "id": "grBTCg66Mxy3"
      },
      "id": "grBTCg66Mxy3"
    },
    {
      "cell_type": "code",
      "source": [
        "# --- Enhanced Visualize Breakpoint Detection with Annotations ---\n",
        "def plot_breakpoints(station):\n",
        "    series = df[station].dropna()\n",
        "    x = series.values\n",
        "    index = series.index\n",
        "\n",
        "    # Pettitt's break\n",
        "    p_break_idx = int(pettitt_test(x)[0])\n",
        "    p_break_date = index[p_break_idx]\n",
        "    p_break_val = x[p_break_idx]\n",
        "\n",
        "    # SNHT break\n",
        "    snht_break_idx = int(snht_test(x)[1])\n",
        "    snht_break_date = index[snht_break_idx]\n",
        "    snht_break_val = x[snht_break_idx]\n",
        "\n",
        "    # Plot\n",
        "    plt.figure(figsize=(12,5))\n",
        "    plt.plot(index, x, label='Rainfall', color='black')\n",
        "\n",
        "    plt.axvline(p_break_date, color='red', linestyle='--', label=f'Pettitt Break: {p_break_date.date()}')\n",
        "    plt.axvline(snht_break_date, color='blue', linestyle='--', label=f'SNHT Break: {snht_break_date.date()}')\n",
        "\n",
        "    # Annotate values\n",
        "    plt.text(p_break_date, p_break_val + 5, f'{p_break_val:.1f} mm', color='red')\n",
        "    plt.text(snht_break_date, snht_break_val + 5, f'{snht_break_val:.1f} mm', color='blue')\n",
        "\n",
        "    plt.title(f'Breakpoint Detection - {station}')\n",
        "    plt.xlabel('Year')\n",
        "    plt.ylabel('Rainfall (mm)')\n",
        "    plt.legend()\n",
        "    plt.grid(True)\n",
        "    plt.tight_layout()\n",
        "    plt.show()"
      ],
      "metadata": {
        "id": "rPSMsw254w6H"
      },
      "id": "rPSMsw254w6H",
      "execution_count": null,
      "outputs": []
    },
    {
      "cell_type": "markdown",
      "source": [
        "#Applying change-point detection in a specific time series (station)"
      ],
      "metadata": {
        "id": "c7w18UxAM8wu"
      },
      "id": "c7w18UxAM8wu"
    },
    {
      "cell_type": "code",
      "source": [
        "# Example\n",
        "plot_breakpoints('Kalat')  # Replace with any station name"
      ],
      "metadata": {
        "id": "mrrzURRM7c58"
      },
      "id": "mrrzURRM7c58",
      "execution_count": null,
      "outputs": []
    },
    {
      "cell_type": "markdown",
      "source": [
        "#HOMOGENEITY ASSESSMENT FOR TIME SERIES OF ANNUAL, SEASONAL AND MONTHLY VALUES (TOTALS OR AVERAGE) PER YEAR\n",
        "A time aggregation criteria and type should be defined first (sum of values, mean of values) (monthly, seasonal, annual)"
      ],
      "metadata": {
        "id": "Sz_l3Oq-ONbo"
      },
      "id": "Sz_l3Oq-ONbo"
    },
    {
      "cell_type": "code",
      "source": [
        "# --- USER SELECTION ---\n",
        "aggregation_mode = 'sum'  # 'sum' or 'mean'\n",
        "aggregation_type = 'seasonal'  # 'monthly', 'seasonal', or 'annual'\n",
        "alpha = 0.95  # Significance level"
      ],
      "metadata": {
        "id": "PWG6Pv_u8Pxe"
      },
      "id": "PWG6Pv_u8Pxe",
      "execution_count": null,
      "outputs": []
    },
    {
      "cell_type": "markdown",
      "source": [
        "#Defining a function for temporal aggregation of time series"
      ],
      "metadata": {
        "id": "8EANvohyPY4z"
      },
      "id": "8EANvohyPY4z"
    },
    {
      "cell_type": "code",
      "source": [
        "def aggregate_series(df, agg_type, agg_mode):\n",
        "    assert agg_type in ['monthly', 'seasonal', 'annual']\n",
        "    assert agg_mode in ['mean', 'sum']\n",
        "\n",
        "    df_copy = df.copy()\n",
        "    method = getattr(df_copy.resample('M'), agg_mode)\n",
        "    df_monthly = method()\n",
        "\n",
        "    if agg_type == 'monthly':\n",
        "        month_names = {\n",
        "            1: 'January', 2: 'February', 3: 'March', 4: 'April',\n",
        "            5: 'May', 6: 'June', 7: 'July', 8: 'August',\n",
        "            9: 'September', 10: 'October', 11: 'November', 12: 'December'\n",
        "        }\n",
        "        return {\n",
        "            month_names[m]: df_monthly[df_monthly.index.month == m]\n",
        "            for m in range(1, 13)\n",
        "        }\n",
        "\n",
        "    elif agg_type == 'seasonal':\n",
        "        # Meteorological season names\n",
        "        season_mapping = {\n",
        "            'DJF': 'DJF - Summer',\n",
        "            'MAM': 'MAM - Autumn',\n",
        "            'JJA': 'JJA - Winter',\n",
        "            'SON': 'SON - Spring'\n",
        "        }\n",
        "        seasons = {\n",
        "            'DJF': [12, 1, 2],\n",
        "            'MAM': [3, 4, 5],\n",
        "            'JJA': [6, 7, 8],\n",
        "            'SON': [9, 10, 11]\n",
        "        }\n",
        "        seasonal_data = {}\n",
        "        for code, months in seasons.items():\n",
        "            name = season_mapping[code]\n",
        "            seasonal_data[name] = df_monthly[df_monthly.index.month.isin(months)]\n",
        "        return seasonal_data\n",
        "\n",
        "    elif agg_type == 'annual':\n",
        "        df_annual = getattr(df_copy.resample('Y'), agg_mode)()\n",
        "        return {'Annual': df_annual}"
      ],
      "metadata": {
        "id": "CDFusPnJ8TZn"
      },
      "id": "CDFusPnJ8TZn",
      "execution_count": null,
      "outputs": []
    },
    {
      "cell_type": "markdown",
      "source": [
        "#Defining a function to apply all the homogeneity tests"
      ],
      "metadata": {
        "id": "NMnEp3FQPdQo"
      },
      "id": "NMnEp3FQPdQo"
    },
    {
      "cell_type": "code",
      "source": [
        "def run_aggregated_homogeneity(df, agg_type, agg_mode):\n",
        "    subsets = aggregate_series(df, agg_type, agg_mode)\n",
        "    results = []\n",
        "\n",
        "    for label, subset_df in subsets.items():\n",
        "        for station in subset_df.columns:\n",
        "            series = subset_df[station].dropna()\n",
        "            if len(series) < 20:\n",
        "                continue\n",
        "            result = apply_all_tests_verbose(series)\n",
        "            n = len(series)\n",
        "            row = {\n",
        "                'Period': label,  # Now contains month or season name\n",
        "                'Station': station,\n",
        "                'n_points': n,\n",
        "                'Pettitt_p': result['pettitt']['p_value'],\n",
        "                'SNHT_T': result['snht']['max_T'],\n",
        "                'Cumulative_Q': result['cumulative_dev']['Q_statistic'],\n",
        "                'Buishand_R': result['buishand_range']['Q_statistic'],\n",
        "                'Buishand_U': result['buishand_U']['U_statistic'],\n",
        "                'Von_Neumann_Ratio': result['von_neumann']['N_ratio'],\n",
        "                'Bayesian_A': result['bayesian']['A_statistic'],\n",
        "                'Worsley_W': result['worsley']['W_statistic'],\n",
        "                't_stat': result['student_t']['t_statistic'],\n",
        "                't_p_value': result['student_t']['p_value']\n",
        "            }\n",
        "            results.append(row)\n",
        "    return pd.DataFrame(results)"
      ],
      "metadata": {
        "id": "EjU60-3N8V3m"
      },
      "id": "EjU60-3N8V3m",
      "execution_count": null,
      "outputs": []
    },
    {
      "cell_type": "markdown",
      "source": [
        "#Getting a table with results of all tests"
      ],
      "metadata": {
        "id": "_uj4T6y-Pi7d"
      },
      "id": "_uj4T6y-Pi7d"
    },
    {
      "cell_type": "code",
      "source": [
        "results_df = run_aggregated_homogeneity(df, agg_type=aggregation_type, agg_mode=aggregation_mode)\n",
        "\n",
        "results_df['Homogeneity_Class'] = results_df.apply(\n",
        "    lambda row: classify_homogeneity(row, row['n_points'], alpha=alpha), axis=1)\n",
        "\n",
        "results_df.reset_index(drop=True, inplace=True)\n",
        "display(results_df)"
      ],
      "metadata": {
        "id": "8IajeSaB8Xxe"
      },
      "id": "8IajeSaB8Xxe",
      "execution_count": null,
      "outputs": []
    },
    {
      "cell_type": "markdown",
      "source": [
        "#Defining a function for change-point detection (breakpoint) for annual, seasonal or monthly time series (values each year)"
      ],
      "metadata": {
        "id": "iN-1x_KCPxtL"
      },
      "id": "iN-1x_KCPxtL"
    },
    {
      "cell_type": "code",
      "source": [
        "def plot_aggregated_breakpoints(station, agg_type, agg_mode):\n",
        "    \"\"\"\n",
        "    Plot rainfall series by station and aggregation type (monthly/seasonal/annual),\n",
        "    and mark Pettitt and SNHT breakpoints with value and date.\n",
        "    \"\"\"\n",
        "    import matplotlib.dates as mdates\n",
        "\n",
        "    subsets = aggregate_series(df, agg_type=agg_type, agg_mode=agg_mode)\n",
        "\n",
        "    for label, subset_df in subsets.items():\n",
        "        if station not in subset_df.columns:\n",
        "            continue\n",
        "\n",
        "        series = subset_df[station].dropna()\n",
        "        if len(series) < 20:\n",
        "            print(f\"Skipping {label} — not enough data.\")\n",
        "            continue\n",
        "\n",
        "        x = series.values\n",
        "        dates = series.index\n",
        "\n",
        "        # Pettitt breakpoint\n",
        "        p_idx = pettitt_test(x)[0]\n",
        "        p_val = x[p_idx]\n",
        "        p_date = dates[p_idx]\n",
        "\n",
        "        # SNHT breakpoint\n",
        "        snht_stat, snht_idx = snht_test(x)\n",
        "        s_val = x[snht_idx]\n",
        "        s_date = dates[snht_idx]\n",
        "\n",
        "        # Plot\n",
        "        plt.figure(figsize=(12, 5))\n",
        "        plt.plot(dates, x, label=f'{agg_type.title()} Rainfall', color='black')\n",
        "\n",
        "        # Mark Pettitt\n",
        "        plt.axvline(p_date, color='red', linestyle='--', label=f'Pettitt: {p_date.date()}')\n",
        "        plt.text(p_date, p_val + 3, f'{p_val:.1f} mm', color='red')\n",
        "\n",
        "        # Mark SNHT\n",
        "        plt.axvline(s_date, color='blue', linestyle='--', label=f'SNHT: {s_date.date()}')\n",
        "        plt.text(s_date, s_val + 3, f'{s_val:.1f} mm', color='blue')\n",
        "\n",
        "        # Format\n",
        "        plt.title(f'{agg_type.title()} Breakpoints - {station} - {label}')\n",
        "        plt.ylabel('Rainfall (mm)')\n",
        "        plt.xlabel('Date')\n",
        "        plt.grid(True)\n",
        "        plt.legend()\n",
        "        plt.tight_layout()\n",
        "        plt.show()"
      ],
      "metadata": {
        "id": "3j_UIfY5-2nr"
      },
      "id": "3j_UIfY5-2nr",
      "execution_count": null,
      "outputs": []
    },
    {
      "cell_type": "markdown",
      "source": [
        "#Applying change-point detection in J-F-M-A-M-J-J-A-S-O-N-D (monthly values each year) time series"
      ],
      "metadata": {
        "id": "OpOX4XJBQGPO"
      },
      "id": "OpOX4XJBQGPO"
    },
    {
      "cell_type": "code",
      "source": [
        "plot_aggregated_breakpoints(\"Kalat\", agg_type=\"monthly\", agg_mode=\"sum\")"
      ],
      "metadata": {
        "id": "Awj4Z1fe-4hc"
      },
      "id": "Awj4Z1fe-4hc",
      "execution_count": null,
      "outputs": []
    },
    {
      "cell_type": "markdown",
      "source": [
        "#Applying change-point detection in SPRING-SUMMER-AUTUMN-WINTER (seasonal values each year) time series"
      ],
      "metadata": {
        "id": "5tcrejMXQZMY"
      },
      "id": "5tcrejMXQZMY"
    },
    {
      "cell_type": "code",
      "source": [
        "plot_aggregated_breakpoints(\"Zhob\", agg_type=\"seasonal\", agg_mode=\"sum\")"
      ],
      "metadata": {
        "id": "sjlaGkur_Kqz"
      },
      "id": "sjlaGkur_Kqz",
      "execution_count": null,
      "outputs": []
    },
    {
      "cell_type": "markdown",
      "source": [
        "#Applying change-point detection in annual time series"
      ],
      "metadata": {
        "id": "W6slP-pQQmtA"
      },
      "id": "W6slP-pQQmtA"
    },
    {
      "cell_type": "code",
      "source": [
        "plot_aggregated_breakpoints(\"Barkhan\", agg_type=\"annual\", agg_mode=\"sum\")"
      ],
      "metadata": {
        "id": "1yNgrzXc_Vk5"
      },
      "id": "1yNgrzXc_Vk5",
      "execution_count": null,
      "outputs": []
    }
  ],
  "metadata": {
    "colab": {
      "provenance": [],
      "include_colab_link": true
    },
    "language_info": {
      "name": "python"
    },
    "kernelspec": {
      "name": "python3",
      "display_name": "Python 3"
    }
  },
  "nbformat": 4,
  "nbformat_minor": 5
}